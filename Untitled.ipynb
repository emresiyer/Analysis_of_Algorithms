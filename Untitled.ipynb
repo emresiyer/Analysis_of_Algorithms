{
 "cells": [
  {
   "cell_type": "code",
   "execution_count": 1,
   "metadata": {
    "collapsed": false
   },
   "outputs": [
    {
     "data": {
      "text/plain": [
       "(155656, 0)"
      ]
     },
     "execution_count": 1,
     "metadata": {},
     "output_type": "execute_result"
    }
   ],
   "source": [
    "def findmax(my_list):\n",
    "    max=my_list[0]\n",
    "    s=-1\n",
    "    for i in range(len(my_list)):\n",
    "        if(max<=my_list[i]):\n",
    "            max=my_list[i]\n",
    "            s=i\n",
    "    return max,s\n",
    "list_1=[155656,585,69,65,2,5,8,7,4,5,6,25,1,5,5,54,5,5,55,56,5]\n",
    "findmax(list_1)"
   ]
  },
  {
   "cell_type": "code",
   "execution_count": 4,
   "metadata": {
    "collapsed": false
   },
   "outputs": [
    {
     "data": {
      "text/plain": [
       "(8983323, 0)"
      ]
     },
     "execution_count": 4,
     "metadata": {},
     "output_type": "execute_result"
    }
   ],
   "source": [
    "import random\n",
    "def generate_numbers(n):\n",
    "    numbers=[]\n",
    "    for i in range(10):\n",
    "        s=random.randint(0,10000000)\n",
    "        numbers.append(s)\n",
    "    return numbers\n",
    "n_s=generate_numbers(5000000)\n",
    "n_s\n",
    "findmax(n_s)\n"
   ]
  },
  {
   "cell_type": "code",
   "execution_count": 5,
   "metadata": {
    "collapsed": true
   },
   "outputs": [],
   "source": [
    "def recursive(n):\n",
    "    if(n<2):\n",
    "        return n\n",
    "    else:\n",
    "        return recursive(n-1)+recursive(n-2)"
   ]
  },
  {
   "cell_type": "code",
   "execution_count": 6,
   "metadata": {
    "collapsed": false
   },
   "outputs": [
    {
     "name": "stdout",
     "output_type": "stream",
     "text": [
      "0112358132134"
     ]
    }
   ],
   "source": [
    "for i in range(10):\n",
    "    s=recursive(i)\n",
    "    print(s,end=\" \")\n"
   ]
  },
  {
   "cell_type": "code",
   "execution_count": null,
   "metadata": {
    "collapsed": true
   },
   "outputs": [],
   "source": []
  }
 ],
 "metadata": {
  "anaconda-cloud": {},
  "kernelspec": {
   "display_name": "Python [default]",
   "language": "python",
   "name": "python3"
  },
  "language_info": {
   "codemirror_mode": {
    "name": "ipython",
    "version": 3
   },
   "file_extension": ".py",
   "mimetype": "text/x-python",
   "name": "python",
   "nbconvert_exporter": "python",
   "pygments_lexer": "ipython3",
   "version": "3.5.2"
  }
 },
 "nbformat": 4,
 "nbformat_minor": 1
}
